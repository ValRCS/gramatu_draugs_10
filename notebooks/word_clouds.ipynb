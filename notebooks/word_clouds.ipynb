{
 "cells": [
  {
   "cell_type": "markdown",
   "metadata": {},
   "source": [
    "# Word Clouds Visualizations\n",
    "\n"
   ]
  },
  {
   "cell_type": "code",
   "execution_count": 3,
   "metadata": {},
   "outputs": [
    {
     "name": "stdout",
     "output_type": "stream",
     "text": [
      "Python version: 3.11.5 (tags/v3.11.5:cce6ba9, Aug 24 2023, 14:38:34) [MSC v.1936 64 bit (AMD64)]\n",
      "pandas version: 2.1.4\n",
      "Plotly version: 5.18.0\n"
     ]
    }
   ],
   "source": [
    "# we will print Python version\n",
    "import sys\n",
    "print(f\"Python version: {sys.version}\")\n",
    "\n",
    "# we will use tqdm for progress bars # install with pip if needed\n",
    "from tqdm import tqdm\n",
    "\n",
    "## We will be loading all parquet files from a parquet folder into a single pandas dataframe\n",
    "\n",
    "## then we will calculate word richness for all novels and plot it using Plotly\n",
    "# first install Pandas if needed using pip and optional dependencies\n",
    "# https://pandas.pydata.org/pandas-docs/stable/getting_started/install.html#install-optional-dependencies\n",
    "\n",
    "# pip install \"pandas[performance, plot, output_formatting, computation, excel, html, parquet, compression, consortium-standard]\"\n",
    "\n",
    "# try to import pandas\n",
    "try:\n",
    "    import pandas as pd\n",
    "    print(f\"pandas version: {pd.__version__}\")\n",
    "except ImportError:\n",
    "    print(\"pandas not found\")\n",
    "# now install Plotly if not already installed\n",
    "# https://plotly.com/python/getting-started/#installation\n",
    "# pip install plotly\n",
    "\n",
    "try:\n",
    "    import plotly\n",
    "    print(f\"Plotly version: {plotly.__version__}\")\n",
    "except ImportError:\n",
    "    print(\"Plotly not found\")"
   ]
  },
  {
   "cell_type": "code",
   "execution_count": null,
   "metadata": {},
   "outputs": [],
   "source": [
    "# TODO install wordcloud library\n",
    "# pip install wordcloud "
   ]
  }
 ],
 "metadata": {
  "kernelspec": {
   "display_name": "venv",
   "language": "python",
   "name": "python3"
  },
  "language_info": {
   "codemirror_mode": {
    "name": "ipython",
    "version": 3
   },
   "file_extension": ".py",
   "mimetype": "text/x-python",
   "name": "python",
   "nbconvert_exporter": "python",
   "pygments_lexer": "ipython3",
   "version": "3.11.5"
  }
 },
 "nbformat": 4,
 "nbformat_minor": 2
}

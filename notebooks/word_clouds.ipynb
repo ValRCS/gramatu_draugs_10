{
 "cells": [
  {
   "cell_type": "markdown",
   "metadata": {},
   "source": [
    "# Word Clouds Visualizations\n",
    "\n"
   ]
  },
  {
   "cell_type": "code",
   "execution_count": 2,
   "metadata": {},
   "outputs": [
    {
     "name": "stdout",
     "output_type": "stream",
     "text": [
      "Python version: 3.11.5 (tags/v3.11.5:cce6ba9, Aug 24 2023, 14:38:34) [MSC v.1936 64 bit (AMD64)]\n"
     ]
    },
    {
     "ename": "ModuleNotFoundError",
     "evalue": "No module named 'tqdm'",
     "output_type": "error",
     "traceback": [
      "\u001b[1;31m---------------------------------------------------------------------------\u001b[0m",
      "\u001b[1;31mModuleNotFoundError\u001b[0m                       Traceback (most recent call last)",
      "Cell \u001b[1;32mIn[2], line 6\u001b[0m\n\u001b[0;32m      3\u001b[0m \u001b[38;5;28mprint\u001b[39m(\u001b[38;5;124mf\u001b[39m\u001b[38;5;124m\"\u001b[39m\u001b[38;5;124mPython version: \u001b[39m\u001b[38;5;132;01m{\u001b[39;00msys\u001b[38;5;241m.\u001b[39mversion\u001b[38;5;132;01m}\u001b[39;00m\u001b[38;5;124m\"\u001b[39m)\n\u001b[0;32m      5\u001b[0m \u001b[38;5;66;03m# we will use tqdm for progress bars # install with pip if needed\u001b[39;00m\n\u001b[1;32m----> 6\u001b[0m \u001b[38;5;28;01mfrom\u001b[39;00m \u001b[38;5;21;01mtqdm\u001b[39;00m \u001b[38;5;28;01mimport\u001b[39;00m tqdm\n\u001b[0;32m      8\u001b[0m \u001b[38;5;66;03m## We will be loading all parquet files from a parquet folder into a single pandas dataframe\u001b[39;00m\n\u001b[0;32m      9\u001b[0m \n\u001b[0;32m     10\u001b[0m \u001b[38;5;66;03m## then we will calculate word richness for all novels and plot it using Plotly\u001b[39;00m\n\u001b[1;32m   (...)\u001b[0m\n\u001b[0;32m     15\u001b[0m \n\u001b[0;32m     16\u001b[0m \u001b[38;5;66;03m# try to import pandas\u001b[39;00m\n\u001b[0;32m     17\u001b[0m \u001b[38;5;28;01mtry\u001b[39;00m:\n",
      "\u001b[1;31mModuleNotFoundError\u001b[0m: No module named 'tqdm'"
     ]
    }
   ],
   "source": [
    "# we will print Python version\n",
    "import sys\n",
    "print(f\"Python version: {sys.version}\")\n",
    "\n",
    "# we will use tqdm for progress bars # install with pip if needed\n",
    "from tqdm import tqdm\n",
    "\n",
    "## We will be loading all parquet files from a parquet folder into a single pandas dataframe\n",
    "\n",
    "## then we will calculate word richness for all novels and plot it using Plotly\n",
    "# first install Pandas if needed using pip and optional dependencies\n",
    "# https://pandas.pydata.org/pandas-docs/stable/getting_started/install.html#install-optional-dependencies\n",
    "\n",
    "# pip install \"pandas[performance, plot, output_formatting, computation, excel, html, parquet, compression, consortium-standard]\"\n",
    "\n",
    "# try to import pandas\n",
    "try:\n",
    "    import pandas as pd\n",
    "    print(f\"pandas version: {pd.__version__}\")\n",
    "except ImportError:\n",
    "    print(\"pandas not found\")\n",
    "# now install Plotly if not already installed\n",
    "# https://plotly.com/python/getting-started/#installation\n",
    "# pip install plotly\n",
    "\n",
    "try:\n",
    "    import plotly\n",
    "    print(f\"Plotly version: {plotly.__version__}\")\n",
    "except ImportError:\n",
    "    print(\"Plotly not found\")"
   ]
  }
 ],
 "metadata": {
  "kernelspec": {
   "display_name": "venv",
   "language": "python",
   "name": "python3"
  },
  "language_info": {
   "codemirror_mode": {
    "name": "ipython",
    "version": 3
   },
   "file_extension": ".py",
   "mimetype": "text/x-python",
   "name": "python",
   "nbconvert_exporter": "python",
   "pygments_lexer": "ipython3",
   "version": "3.11.5"
  }
 },
 "nbformat": 4,
 "nbformat_minor": 2
}
